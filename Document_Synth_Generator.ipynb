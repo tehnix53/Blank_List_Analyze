{
 "cells": [
  {
   "cell_type": "code",
   "execution_count": 1,
   "metadata": {},
   "outputs": [],
   "source": [
    "from PIL import Image, ImageOps\n",
    "import numpy as np\n",
    "import os\n",
    "import glob\n",
    "import matplotlib.pyplot as plt\n",
    "import cv2\n",
    "from tqdm import tqdm_notebook as tqdm\n",
    "import shutil as sh\n",
    "import random"
   ]
  },
  {
   "cell_type": "code",
   "execution_count": 2,
   "metadata": {},
   "outputs": [],
   "source": [
    "home_dir = '/home/alex/ScreenReplay/synt_generator/generated'"
   ]
  },
  {
   "cell_type": "code",
   "execution_count": 18,
   "metadata": {},
   "outputs": [
    {
     "name": "stdout",
     "output_type": "stream",
     "text": [
      "generate 2d...\n"
     ]
    },
    {
     "data": {
      "application/vnd.jupyter.widget-view+json": {
       "model_id": "efdd3c86661e4576bf0d840974b59b96",
       "version_major": 2,
       "version_minor": 0
      },
      "text/plain": [
       "HBox(children=(IntProgress(value=0, max=1), HTML(value='')))"
      ]
     },
     "metadata": {},
     "output_type": "display_data"
    },
    {
     "name": "stdout",
     "output_type": "stream",
     "text": [
      "\n",
      "generate 3d...\n"
     ]
    },
    {
     "data": {
      "application/vnd.jupyter.widget-view+json": {
       "model_id": "adb72bdc5e714f9ca76fd9971eb70123",
       "version_major": 2,
       "version_minor": 0
      },
      "text/plain": [
       "HBox(children=(IntProgress(value=0, max=10), HTML(value='')))"
      ]
     },
     "metadata": {},
     "output_type": "display_data"
    },
    {
     "name": "stdout",
     "output_type": "stream",
     "text": [
      "\n"
     ]
    }
   ],
   "source": [
    "a = SynthDocumentGenerator(home_dir, 10,10)\n",
    "a.start_generation()"
   ]
  },
  {
   "cell_type": "code",
   "execution_count": 17,
   "metadata": {},
   "outputs": [],
   "source": [
    "class SynthDocumentGenerator:\n",
    "    \n",
    "    def __init__(self, source_dir, count_2d, count_3d):\n",
    "        \n",
    "        self.source_dir = source_dir # папка с прямыми паспортами\n",
    "        self.count_2d = int(count_2d) # количество прямых\n",
    "        self.count_3d = int(count_3d) # количесвто с изгибом\n",
    "        self.save_dir = os.path.join(source_dir,'save')       \n",
    "        self.images = glob.glob(self.source_dir+'/*.jpg')           \n",
    "           \n",
    "    \n",
    "    def _random_background(self): \n",
    "        \n",
    "        \" создание фонов произвольной ргб заливки\"\n",
    "\n",
    "        a = 1080 # размер фона\n",
    "        b = 1920\n",
    "        zero_area = (np.zeros((b,a,3), dtype = \"uint8\"))\n",
    "        Image.fromarray(zero_area)\n",
    "        start_point = (0, 0) \n",
    "        end_point = (a, b) \n",
    "        color = (random.randint(0,255), random.randint(0,255), random.randint(0,255))\n",
    "        thickness = -1\n",
    "        res = cv2.rectangle(zero_area, start_point, end_point, color, thickness) \n",
    "        res = Image.fromarray(res)\n",
    "        return res\n",
    "    \n",
    "    def _get_concat_v(self,im1, im2):\n",
    "\n",
    "        'складывает изображения по вертикали'\n",
    "\n",
    "        dst = Image.new('RGB', (im2.width, im1.height + im2.height))\n",
    "        dst.paste(im1, (0, 0))\n",
    "        dst.paste(im2, (0, im1.height))\n",
    "        return dst\n",
    "\n",
    "    def _find_coeffs(self,pa, pb):\n",
    "    \n",
    "        \"коэффицикенты для трансформации\"\n",
    "\n",
    "        matrix = []\n",
    "        for p1, p2 in zip(pa, pb):\n",
    "            matrix.append([p1[0], p1[1], 1, 0, 0, 0, -p2[0]*p1[0], -p2[0]*p1[1]])\n",
    "            matrix.append([0, 0, 0, p1[0], p1[1], 1, -p2[1]*p1[0], -p2[1]*p1[1]])\n",
    "\n",
    "        A = np.matrix(matrix, dtype=np.float)\n",
    "        B = np.array(pb).reshape(8)\n",
    "        res = np.dot(np.linalg.inv(A.T * A) * A.T, B)\n",
    "        return np.array(res).reshape(8)\n",
    "\n",
    "    def _perspective_image(self,pil_image):\n",
    "\n",
    "        \"создание перспективы изображения\"\n",
    "\n",
    "        size = pil_image.size\n",
    "        shift = random.uniform(0.03, 0.21) \n",
    "        new_width = size[0]-size[0]*shift    \n",
    "        coeffs = self._find_coeffs(\n",
    "                [(0, 0), (size[0], 0), (size[0], size[1]), (0, size[1])],\n",
    "                [(0, 0), (size[0], 0), (new_width, size[1]), (0, size[1])])\n",
    "\n",
    "        perspective = pil_image.transform((size[0]+int(size[0]*2*shift), size[1]+int(size[1]*0.1))\n",
    "                                  , Image.PERSPECTIVE, coeffs,Image.BICUBIC)\n",
    "        return perspective\n",
    "\n",
    "    def _bending_image(self,pil_image):  \n",
    "\n",
    "        \"создание полуизгиба изображения\"\n",
    "\n",
    "        size = np.asarray(pil_image).shape\n",
    "        crop_up = pil_image.crop((0,0,size[1],size[0]//2)) # cut top part of image\n",
    "        crop_down = pil_image.crop((0,size[0]//2,size[1],size[0])) # cut bottom part of image\n",
    "        persp_down = self._perspective_image(crop_down)\n",
    "        concat_img = self._get_concat_v(crop_up, persp_down)\n",
    "        return concat_img\n",
    "\n",
    "\n",
    "    def _perspective_mask(self,pil_image):  \n",
    "\n",
    "        \"создание маски для непрямого изображения\"\n",
    "\n",
    "        some_array = np.asarray(pil_image)\n",
    "        gray = cv2.cvtColor(some_array, cv2.COLOR_BGR2GRAY)\n",
    "        img_arr = Image.fromarray(gray)\n",
    "        img_arr = ImageOps.grayscale(img_arr)\n",
    "        img_arr = np.asarray(img_arr)\n",
    "        img_arr = np.where(img_arr>0,255,img_arr)\n",
    "        img_arr = Image.fromarray(img_arr)\n",
    "        return img_arr\n",
    "\n",
    "\n",
    "    def _synth_generator(self, pil_image, generation_mode = '2d'): \n",
    "\n",
    "        \"генерация синтов в двух режимах\"\n",
    "\n",
    "        angle = random.randint(-24,24) #  рандомный угол\n",
    "        zoom = random.uniform(2.0, 4.0) # рандомный зум\n",
    "        mirror = random.choice([0,1]) # рандомное отзеркаливание\n",
    "\n",
    "        c = self._random_background()\n",
    "        back_shape = np.asarray(c).shape\n",
    "\n",
    "\n",
    "        shape = (np.asarray(pil_image).shape)\n",
    "        h = shape[0]\n",
    "        w = shape[1]\n",
    "        test = pil_image.resize((int(w/zoom), int(h/zoom))\n",
    "                            , Image.BILINEAR )    \n",
    "\n",
    "        if mirror == 1:\n",
    "            test = test.transpose(Image.FLIP_LEFT_RIGHT)\n",
    "\n",
    "        if generation_mode == '3d':\n",
    "            aug_mode = random.choice([0,1])\n",
    "            if aug_mode == 0:\n",
    "                test = self._perspective_image(test)\n",
    "            else:\n",
    "                test = self._bending_image(test)\n",
    "            mask = self._perspective_mask(test) \n",
    "\n",
    "        else:\n",
    "            mask = Image.new('L', test.size, 255)\n",
    "\n",
    "\n",
    "        mask = mask.rotate(angle, expand=True)\n",
    "        test = test.rotate(angle, expand=True)\n",
    "        shape = np.asarray(mask).shape\n",
    "\n",
    "        x = (back_shape[0]-shape[0])//2\n",
    "        y = (back_shape[1]-shape[1])//2\n",
    "        c.paste(test, (y, x), mask)\n",
    "\n",
    "        return c   \n",
    "    \n",
    "  \n",
    "    def start_generation(self):   \n",
    "        \n",
    "        if os.path.exists(self.save_dir) == False:\n",
    "            os.mkdir(self.save_dir)\n",
    "        \n",
    "        print ('generate 2d...')\n",
    "        for i in tqdm(range(self.count_2d)):\n",
    "   \n",
    "            path_name = random.choice(self.images)\n",
    "            img = Image.open(path_name)\n",
    "            \n",
    "            img = self._synth_generator(img, generation_mode = '2d')\n",
    "            name = str(i)+'.png'\n",
    "            save_path = os.path.join(self.save_dir, name)\n",
    "            img.save(save_path)            \n",
    "            \n",
    "        print ('generate 3d...')    \n",
    "        for i in tqdm(range(self.count_3d)):\n",
    "   \n",
    "            path_name = random.choice(self.images)\n",
    "            img = Image.open(path_name)\n",
    "         \n",
    "            img = self._synth_generator(img, generation_mode = '3d')\n",
    "            name = str(i+self.count_2d)+'.png'\n",
    "            save_path = os.path.join(self.save_dir, name)\n",
    "            img.save(save_path)\n",
    "            "
   ]
  }
 ],
 "metadata": {
  "kernelspec": {
   "display_name": "Python 3",
   "language": "python",
   "name": "python3"
  },
  "language_info": {
   "codemirror_mode": {
    "name": "ipython",
    "version": 3
   },
   "file_extension": ".py",
   "mimetype": "text/x-python",
   "name": "python",
   "nbconvert_exporter": "python",
   "pygments_lexer": "ipython3",
   "version": "3.6.8"
  }
 },
 "nbformat": 4,
 "nbformat_minor": 2
}
